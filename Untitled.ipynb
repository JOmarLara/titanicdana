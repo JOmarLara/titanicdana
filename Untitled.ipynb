{
 "cells": [
  {
   "cell_type": "code",
   "execution_count": null,
   "id": "af2ed97d",
   "metadata": {},
   "outputs": [],
   "source": [
    "import sys\n",
    "import scipy\n",
    "import numpy\n",
    "import matplotlib\n",
    "import pandas\n",
    "import sklearn\n",
    "\n",
    "print('Python: {}'.format(sys.version))\n",
    "print('Scipy: {}'.format(scipy.__version__))\n",
    "print('Numpy: {}'.format(numpy.__version__))\n",
    "print('Matplotlib: {}'.format(matplotlib.__version__))\n",
    "print('Pandas: {}'.format(pandas.__version__))\n",
    "print('Sklearn: {}'.format(sklearn.__version__))"
   ]
  }
 ],
 "metadata": {
  "kernelspec": {
   "display_name": "dana",
   "language": "python",
   "name": "python3"
  },
  "language_info": {
   "name": "python",
   "version": "3.12.7"
  }
 },
 "nbformat": 4,
 "nbformat_minor": 5
}
